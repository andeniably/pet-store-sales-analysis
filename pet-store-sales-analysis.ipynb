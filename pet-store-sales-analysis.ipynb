{
 "cells": [
  {
   "cell_type": "markdown",
   "metadata": {
    "deletable": true,
    "editable": true,
    "nbgrader": {
     "cell_type": "markdown",
     "checksum": "ebc5a15fdef278219fe7cfc60992d4cd",
     "grade": false,
     "grade_id": "cell-bc163031976ef890",
     "locked": true,
     "schema_version": 3,
     "solution": false,
     "task": false
    }
   },
   "source": [
    "# 🧠 Unleashing Insights: Sales Analysis of Pet Store Transactions\n",
    "\n",
    "An end-to-end data analysis project on pet store transactions to identify high-performing product categories using the OSEMN data science framework (Obtain, Scrub, Explore, Model, Interpret).\n"
   ]
  },
  {
   "cell_type": "markdown",
   "metadata": {},
   "source": [
    "## 📌 Project Overview\n",
    "\n",
    "**Dataset:** `transactions-pet_store.csv`  \n",
    "**Objective:** Analyze sales patterns to identify best-selling product categories by pet type and offer actionable recommendations.  \n",
    "**Tools:** Python (pandas, matplotlib, seaborn)\n"
   ]
  },
  {
   "cell_type": "markdown",
   "metadata": {},
   "source": [
    "### 📦 Step 1: Import Required Libraries\n",
    "\n"
   ]
  },
  {
   "cell_type": "code",
   "execution_count": 6,
   "metadata": {},
   "outputs": [],
   "source": [
    "import pandas as pd\n",
    "import matplotlib.pyplot as plt\n",
    "import seaborn as sns\n",
    "\n",
    "# Load the Data\n",
    "df = pd.read_csv('transactions-pet_store.csv')\n",
    "df_orig = df.copy()\n"
   ]
  },
  {
   "cell_type": "code",
   "execution_count": 7,
   "metadata": {},
   "outputs": [
    {
     "data": {
      "text/html": [
       "<div>\n",
       "<style scoped>\n",
       "    .dataframe tbody tr th:only-of-type {\n",
       "        vertical-align: middle;\n",
       "    }\n",
       "\n",
       "    .dataframe tbody tr th {\n",
       "        vertical-align: top;\n",
       "    }\n",
       "\n",
       "    .dataframe thead th {\n",
       "        text-align: right;\n",
       "    }\n",
       "</style>\n",
       "<table border=\"1\" class=\"dataframe\">\n",
       "  <thead>\n",
       "    <tr style=\"text-align: right;\">\n",
       "      <th></th>\n",
       "      <th>Date</th>\n",
       "      <th>Order_Number</th>\n",
       "      <th>Customer_ID</th>\n",
       "      <th>Product_Name</th>\n",
       "      <th>SKU</th>\n",
       "      <th>Price</th>\n",
       "      <th>Quantity</th>\n",
       "      <th>Product_Category</th>\n",
       "      <th>Product_Line</th>\n",
       "      <th>Size</th>\n",
       "    </tr>\n",
       "  </thead>\n",
       "  <tbody>\n",
       "    <tr>\n",
       "      <th>0</th>\n",
       "      <td>5/22/2021</td>\n",
       "      <td>SXF-7309-1727-1334</td>\n",
       "      <td>476582ea-1bba-4289-8775-3fcd8074821c</td>\n",
       "      <td>Feline Fix Mix</td>\n",
       "      <td>RKAPY3I1TP</td>\n",
       "      <td>39.55</td>\n",
       "      <td>1</td>\n",
       "      <td>treat</td>\n",
       "      <td>cat</td>\n",
       "      <td>NaN</td>\n",
       "    </tr>\n",
       "    <tr>\n",
       "      <th>1</th>\n",
       "      <td>5/22/2021</td>\n",
       "      <td>SXF-7309-1727-1334</td>\n",
       "      <td>476582ea-1bba-4289-8775-3fcd8074821c</td>\n",
       "      <td>Scratchy Post</td>\n",
       "      <td>MPH6SCD7UT</td>\n",
       "      <td>26.95</td>\n",
       "      <td>3</td>\n",
       "      <td>toy</td>\n",
       "      <td>cat</td>\n",
       "      <td>NaN</td>\n",
       "    </tr>\n",
       "    <tr>\n",
       "      <th>2</th>\n",
       "      <td>5/22/2021</td>\n",
       "      <td>SXF-7309-1727-1334</td>\n",
       "      <td>476582ea-1bba-4289-8775-3fcd8074821c</td>\n",
       "      <td>Reddy Beddy</td>\n",
       "      <td>DJWE1V9LZK</td>\n",
       "      <td>23.07</td>\n",
       "      <td>3</td>\n",
       "      <td>bedding</td>\n",
       "      <td>dog</td>\n",
       "      <td>NaN</td>\n",
       "    </tr>\n",
       "    <tr>\n",
       "      <th>3</th>\n",
       "      <td>3/23/2020</td>\n",
       "      <td>DG7-5410-5845-1340</td>\n",
       "      <td>5929a0e9-95a7-4dbf-896e-c11d1988615e</td>\n",
       "      <td>Snoozer Essentails</td>\n",
       "      <td>GABWVMEL2R</td>\n",
       "      <td>28.04</td>\n",
       "      <td>3</td>\n",
       "      <td>bedding</td>\n",
       "      <td>dog</td>\n",
       "      <td>S</td>\n",
       "    </tr>\n",
       "    <tr>\n",
       "      <th>4</th>\n",
       "      <td>3/23/2020</td>\n",
       "      <td>DG7-5410-5845-1340</td>\n",
       "      <td>5929a0e9-95a7-4dbf-896e-c11d1988615e</td>\n",
       "      <td>Reddy Beddy</td>\n",
       "      <td>KDTMPSBZKZ</td>\n",
       "      <td>13.84</td>\n",
       "      <td>1</td>\n",
       "      <td>bedding</td>\n",
       "      <td>dog</td>\n",
       "      <td>NaN</td>\n",
       "    </tr>\n",
       "  </tbody>\n",
       "</table>\n",
       "</div>"
      ],
      "text/plain": [
       "        Date        Order_Number                           Customer_ID  \\\n",
       "0  5/22/2021  SXF-7309-1727-1334  476582ea-1bba-4289-8775-3fcd8074821c   \n",
       "1  5/22/2021  SXF-7309-1727-1334  476582ea-1bba-4289-8775-3fcd8074821c   \n",
       "2  5/22/2021  SXF-7309-1727-1334  476582ea-1bba-4289-8775-3fcd8074821c   \n",
       "3  3/23/2020  DG7-5410-5845-1340  5929a0e9-95a7-4dbf-896e-c11d1988615e   \n",
       "4  3/23/2020  DG7-5410-5845-1340  5929a0e9-95a7-4dbf-896e-c11d1988615e   \n",
       "\n",
       "         Product_Name         SKU  Price  Quantity Product_Category  \\\n",
       "0      Feline Fix Mix  RKAPY3I1TP  39.55         1            treat   \n",
       "1       Scratchy Post  MPH6SCD7UT  26.95         3              toy   \n",
       "2         Reddy Beddy  DJWE1V9LZK  23.07         3          bedding   \n",
       "3  Snoozer Essentails  GABWVMEL2R  28.04         3          bedding   \n",
       "4         Reddy Beddy  KDTMPSBZKZ  13.84         1          bedding   \n",
       "\n",
       "  Product_Line Size  \n",
       "0          cat  NaN  \n",
       "1          cat  NaN  \n",
       "2          dog  NaN  \n",
       "3          dog    S  \n",
       "4          dog  NaN  "
      ]
     },
     "execution_count": 7,
     "metadata": {},
     "output_type": "execute_result"
    }
   ],
   "source": [
    "#Get an overview of the data\n",
    "df.head()"
   ]
  },
  {
   "cell_type": "markdown",
   "metadata": {
    "deletable": true,
    "editable": true,
    "nbgrader": {
     "cell_type": "markdown",
     "checksum": "7ae5cef8cb95c1ffdeffec6b06b64492",
     "grade": false,
     "grade_id": "cell-b363c2591fbd7e2e",
     "locked": true,
     "schema_version": 3,
     "solution": false,
     "task": false
    }
   },
   "source": [
    "### 🧼 Step 2: Data Scrubbing\n",
    "\n",
    "#### 2.1 Remove Rows with Missing `Product_Name` or `Product_Category`\n",
    "These fields are essential for categorizing transactions, so we'll remove any rows missing them.\n"
   ]
  },
  {
   "cell_type": "code",
   "execution_count": 8,
   "metadata": {
    "deletable": true,
    "nbgrader": {
     "cell_type": "code",
     "checksum": "540c869e44f1cbff68c3b0728f83dcb6",
     "grade": false,
     "grade_id": "cell-f9ba4f00dd002cd0",
     "locked": false,
     "schema_version": 3,
     "solution": true,
     "task": false
    }
   },
   "outputs": [
    {
     "name": "stdout",
     "output_type": "stream",
     "text": [
      "<class 'pandas.core.frame.DataFrame'>\n",
      "RangeIndex: 2716 entries, 0 to 2715\n",
      "Data columns (total 10 columns):\n",
      " #   Column            Non-Null Count  Dtype  \n",
      "---  ------            --------------  -----  \n",
      " 0   Date              2716 non-null   object \n",
      " 1   Order_Number      2716 non-null   object \n",
      " 2   Customer_ID       2716 non-null   object \n",
      " 3   Product_Name      2716 non-null   object \n",
      " 4   SKU               2716 non-null   object \n",
      " 5   Price             2716 non-null   float64\n",
      " 6   Quantity          2716 non-null   int64  \n",
      " 7   Product_Category  2716 non-null   object \n",
      " 8   Product_Line      2716 non-null   object \n",
      " 9   Size              261 non-null    object \n",
      "dtypes: float64(1), int64(1), object(8)\n",
      "memory usage: 212.3+ KB\n"
     ]
    }
   ],
   "source": [
    "#Assigned the cleaned DataFrame to the variable df\n",
    "#Checked if there are no null values\n",
    "\n",
    "df = df[~df['Product_Name'].isna() & ~df['Product_Category'].isna()]\n",
    "df.info()\n",
    "\n"
   ]
  },
  {
   "cell_type": "markdown",
   "metadata": {
    "deletable": true,
    "editable": true,
    "nbgrader": {
     "cell_type": "markdown",
     "checksum": "9a935ca2e1ccdafd225dcb2db2201ecc",
     "grade": false,
     "grade_id": "cell-c0b59bb3a7312e52",
     "locked": true,
     "schema_version": 3,
     "solution": false,
     "task": false
    }
   },
   "source": [
    "#### 2.2 Fix Incorrect Pricing\n",
    "Some price values were negative or incorrect due to data entry issues. We'll correct them below.\n"
   ]
  },
  {
   "cell_type": "code",
   "execution_count": 4,
   "metadata": {
    "deletable": true,
    "nbgrader": {
     "cell_type": "code",
     "checksum": "316d87894dec7cffb19b6cdb33f676f7",
     "grade": false,
     "grade_id": "cell-7b941f6f77d0d8e9",
     "locked": false,
     "schema_version": 3,
     "solution": true,
     "task": false
    }
   },
   "outputs": [
    {
     "data": {
      "text/plain": [
       "Date                          9/9/2020\n",
       "Order_Number        ZZD-0808-1377-2425\n",
       "Product_Name             Yum Fish-Dish\n",
       "SKU                         W86BRJ9SSG\n",
       "Price                            39.55\n",
       "Quantity                             3\n",
       "Product_Category                 treat\n",
       "Product_Line                       dog\n",
       "dtype: object"
      ]
     },
     "execution_count": 4,
     "metadata": {},
     "output_type": "execute_result"
    }
   ],
   "source": [
    "price_negative = df['Price'] <0\n",
    "df.loc[price_negative, 'Price'] = -1 * df.loc[price_negative, 'Price']\n",
    "df.loc[42, 'Price'] = 19.873\n",
    "df.loc[67, 'Price'] = 19.873\n",
    "df.max()\n"
   ]
  },
  {
   "cell_type": "markdown",
   "metadata": {
    "deletable": true,
    "editable": true,
    "nbgrader": {
     "cell_type": "markdown",
     "checksum": "1cdcf1b22cb673298236f4dd15b6637c",
     "grade": false,
     "grade_id": "cell-e04236e7ff88f62a",
     "locked": true,
     "schema_version": 3,
     "solution": false,
     "task": false
    }
   },
   "source": [
    "#### 2.3 Drop Columns with Excessive Missing Values\n",
    "We'll remove the `Size` column since it has over 500 missing values.\n"
   ]
  },
  {
   "cell_type": "code",
   "execution_count": 9,
   "metadata": {
    "deletable": false,
    "nbgrader": {
     "cell_type": "code",
     "checksum": "3814d0acc240faeb9b48a56dc9aa22d8",
     "grade": false,
     "grade_id": "cell-c51798c512afbebd",
     "locked": false,
     "schema_version": 3,
     "solution": true,
     "task": false
    }
   },
   "outputs": [],
   "source": [
    "df = df.drop(columns =['Size'])\n",
    "\n"
   ]
  },
  {
   "cell_type": "markdown",
   "metadata": {
    "deletable": true,
    "editable": true,
    "nbgrader": {
     "cell_type": "markdown",
     "checksum": "016b0014c41aa9705f38b381f02c3dc6",
     "grade": false,
     "grade_id": "cell-576a3fae18d872b4",
     "locked": true,
     "schema_version": 3,
     "solution": false,
     "task": false
    }
   },
   "source": [
    "#### 2.4 Handle Remaining Missing Values\n",
    "The only remaining column with nulls is `Customer_ID`, which we'll drop from the rows.\n"
   ]
  },
  {
   "cell_type": "code",
   "execution_count": 8,
   "metadata": {
    "deletable": true,
    "nbgrader": {
     "cell_type": "code",
     "checksum": "742a9accde3c1ced52442ad7b90622b5",
     "grade": false,
     "grade_id": "cell-3116ffcaf3255a8b",
     "locked": false,
     "schema_version": 3,
     "solution": true,
     "task": false
    }
   },
   "outputs": [],
   "source": [
    "df = df[~df['Customer_ID'].isna()]\n",
    "\n",
    "\n"
   ]
  },
  {
   "cell_type": "markdown",
   "metadata": {
    "deletable": true,
    "editable": true,
    "nbgrader": {
     "cell_type": "markdown",
     "checksum": "9b3c8786e095536173b8e646c3e68c34",
     "grade": false,
     "grade_id": "cell-728db712865861a4",
     "locked": true,
     "schema_version": 3,
     "solution": false,
     "task": false
    }
   },
   "source": [
    "### 🔍 Step 3: Data Exploration\n",
    "\n",
    "#### 3.1 Calculate Transaction Subtotals\n",
    "We create a new column `Subtotal` to capture the total transaction value per row.\n"
   ]
  },
  {
   "cell_type": "code",
   "execution_count": 10,
   "metadata": {
    "deletable": true,
    "editable": true,
    "nbgrader": {
     "cell_type": "code",
     "checksum": "51a2a005d45998aafa201431810b1e0c",
     "grade": false,
     "grade_id": "cell-4542d3a8860bf716",
     "locked": true,
     "schema_version": 3,
     "solution": false,
     "task": false
    }
   },
   "outputs": [],
   "source": [
    "#Loaded the cleaned Data\n",
    "df = pd.read_csv('transactions-pet_store-clean.csv')"
   ]
  },
  {
   "cell_type": "markdown",
   "metadata": {
    "deletable": true,
    "editable": true,
    "nbgrader": {
     "cell_type": "markdown",
     "checksum": "a819e2e84b50a08f988beb5074ce6cae",
     "grade": false,
     "grade_id": "cell-5a0260933795882f",
     "locked": true,
     "schema_version": 3,
     "solution": false,
     "task": false
    }
   },
   "source": [
    "#### 2.5 Feature Engineering: Create `Subtotal` Column\n",
    "\n",
    "To support further analysis, we'll engineer a new feature called `Subtotal`. This column represents the total amount spent per transaction row by multiplying `Price` and `Quantity`.\n"
   ]
  },
  {
   "cell_type": "code",
   "execution_count": 11,
   "metadata": {
    "deletable": false,
    "nbgrader": {
     "cell_type": "code",
     "checksum": "e4d4b721419ee163d932cc9ec87c1d27",
     "grade": false,
     "grade_id": "cell-59ace92c404e6c20",
     "locked": false,
     "schema_version": 3,
     "solution": true,
     "task": false
    }
   },
   "outputs": [
    {
     "data": {
      "text/html": [
       "<div>\n",
       "<style scoped>\n",
       "    .dataframe tbody tr th:only-of-type {\n",
       "        vertical-align: middle;\n",
       "    }\n",
       "\n",
       "    .dataframe tbody tr th {\n",
       "        vertical-align: top;\n",
       "    }\n",
       "\n",
       "    .dataframe thead th {\n",
       "        text-align: right;\n",
       "    }\n",
       "</style>\n",
       "<table border=\"1\" class=\"dataframe\">\n",
       "  <thead>\n",
       "    <tr style=\"text-align: right;\">\n",
       "      <th></th>\n",
       "      <th>Date</th>\n",
       "      <th>Order_Number</th>\n",
       "      <th>Customer_ID</th>\n",
       "      <th>Product_Name</th>\n",
       "      <th>SKU</th>\n",
       "      <th>Price</th>\n",
       "      <th>Quantity</th>\n",
       "      <th>Product_Category</th>\n",
       "      <th>Product_Line</th>\n",
       "      <th>Subtotal</th>\n",
       "    </tr>\n",
       "  </thead>\n",
       "  <tbody>\n",
       "    <tr>\n",
       "      <th>0</th>\n",
       "      <td>5/22/2021</td>\n",
       "      <td>SXF-7309-1727-1334</td>\n",
       "      <td>476582ea-1bba-4289-8775-3fcd8074821c</td>\n",
       "      <td>Feline Fix Mix</td>\n",
       "      <td>RKAPY3I1TP</td>\n",
       "      <td>39.55</td>\n",
       "      <td>1</td>\n",
       "      <td>treat</td>\n",
       "      <td>cat</td>\n",
       "      <td>39.55</td>\n",
       "    </tr>\n",
       "    <tr>\n",
       "      <th>1</th>\n",
       "      <td>5/22/2021</td>\n",
       "      <td>SXF-7309-1727-1334</td>\n",
       "      <td>476582ea-1bba-4289-8775-3fcd8074821c</td>\n",
       "      <td>Scratchy Post</td>\n",
       "      <td>MPH6SCD7UT</td>\n",
       "      <td>26.95</td>\n",
       "      <td>3</td>\n",
       "      <td>toy</td>\n",
       "      <td>cat</td>\n",
       "      <td>80.85</td>\n",
       "    </tr>\n",
       "    <tr>\n",
       "      <th>2</th>\n",
       "      <td>5/22/2021</td>\n",
       "      <td>SXF-7309-1727-1334</td>\n",
       "      <td>476582ea-1bba-4289-8775-3fcd8074821c</td>\n",
       "      <td>Reddy Beddy</td>\n",
       "      <td>DJWE1V9LZK</td>\n",
       "      <td>23.07</td>\n",
       "      <td>3</td>\n",
       "      <td>bedding</td>\n",
       "      <td>dog</td>\n",
       "      <td>69.21</td>\n",
       "    </tr>\n",
       "    <tr>\n",
       "      <th>3</th>\n",
       "      <td>3/23/2020</td>\n",
       "      <td>DG7-5410-5845-1340</td>\n",
       "      <td>5929a0e9-95a7-4dbf-896e-c11d1988615e</td>\n",
       "      <td>Snoozer Essentails</td>\n",
       "      <td>GABWVMEL2R</td>\n",
       "      <td>28.04</td>\n",
       "      <td>3</td>\n",
       "      <td>bedding</td>\n",
       "      <td>dog</td>\n",
       "      <td>84.12</td>\n",
       "    </tr>\n",
       "    <tr>\n",
       "      <th>4</th>\n",
       "      <td>3/23/2020</td>\n",
       "      <td>DG7-5410-5845-1340</td>\n",
       "      <td>5929a0e9-95a7-4dbf-896e-c11d1988615e</td>\n",
       "      <td>Reddy Beddy</td>\n",
       "      <td>KDTMPSBZKZ</td>\n",
       "      <td>13.84</td>\n",
       "      <td>1</td>\n",
       "      <td>bedding</td>\n",
       "      <td>dog</td>\n",
       "      <td>13.84</td>\n",
       "    </tr>\n",
       "    <tr>\n",
       "      <th>...</th>\n",
       "      <td>...</td>\n",
       "      <td>...</td>\n",
       "      <td>...</td>\n",
       "      <td>...</td>\n",
       "      <td>...</td>\n",
       "      <td>...</td>\n",
       "      <td>...</td>\n",
       "      <td>...</td>\n",
       "      <td>...</td>\n",
       "      <td>...</td>\n",
       "    </tr>\n",
       "    <tr>\n",
       "      <th>2711</th>\n",
       "      <td>10/16/2020</td>\n",
       "      <td>P8K-8079-0264-6569</td>\n",
       "      <td>468f40b3-59ca-47fd-9739-c7f19cf48f32</td>\n",
       "      <td>Cat Cave</td>\n",
       "      <td>058G0P7V60</td>\n",
       "      <td>29.66</td>\n",
       "      <td>1</td>\n",
       "      <td>bedding</td>\n",
       "      <td>cat</td>\n",
       "      <td>29.66</td>\n",
       "    </tr>\n",
       "    <tr>\n",
       "      <th>2712</th>\n",
       "      <td>10/16/2020</td>\n",
       "      <td>P8K-8079-0264-6569</td>\n",
       "      <td>468f40b3-59ca-47fd-9739-c7f19cf48f32</td>\n",
       "      <td>Kitty Climber</td>\n",
       "      <td>W86BRJ9SSG</td>\n",
       "      <td>39.32</td>\n",
       "      <td>1</td>\n",
       "      <td>toy</td>\n",
       "      <td>cat</td>\n",
       "      <td>39.32</td>\n",
       "    </tr>\n",
       "    <tr>\n",
       "      <th>2713</th>\n",
       "      <td>10/16/2020</td>\n",
       "      <td>P8K-8079-0264-6569</td>\n",
       "      <td>468f40b3-59ca-47fd-9739-c7f19cf48f32</td>\n",
       "      <td>Fetch Blaster</td>\n",
       "      <td>M291KHJ4LW</td>\n",
       "      <td>29.47</td>\n",
       "      <td>1</td>\n",
       "      <td>toy</td>\n",
       "      <td>dog</td>\n",
       "      <td>29.47</td>\n",
       "    </tr>\n",
       "    <tr>\n",
       "      <th>2714</th>\n",
       "      <td>10/16/2020</td>\n",
       "      <td>P8K-8079-0264-6569</td>\n",
       "      <td>468f40b3-59ca-47fd-9739-c7f19cf48f32</td>\n",
       "      <td>Snoozer Essentails</td>\n",
       "      <td>GABWVMEL2R</td>\n",
       "      <td>28.04</td>\n",
       "      <td>1</td>\n",
       "      <td>bedding</td>\n",
       "      <td>dog</td>\n",
       "      <td>28.04</td>\n",
       "    </tr>\n",
       "    <tr>\n",
       "      <th>2715</th>\n",
       "      <td>12/10/2019</td>\n",
       "      <td>6ZD-7972-0320-6653</td>\n",
       "      <td>f2a090b3-ec77-4018-939e-1a18d2b4f4ef</td>\n",
       "      <td>Snoozer Essentails</td>\n",
       "      <td>GABWVMEL2R</td>\n",
       "      <td>28.04</td>\n",
       "      <td>1</td>\n",
       "      <td>bedding</td>\n",
       "      <td>dog</td>\n",
       "      <td>28.04</td>\n",
       "    </tr>\n",
       "  </tbody>\n",
       "</table>\n",
       "<p>2716 rows × 10 columns</p>\n",
       "</div>"
      ],
      "text/plain": [
       "            Date        Order_Number                           Customer_ID  \\\n",
       "0      5/22/2021  SXF-7309-1727-1334  476582ea-1bba-4289-8775-3fcd8074821c   \n",
       "1      5/22/2021  SXF-7309-1727-1334  476582ea-1bba-4289-8775-3fcd8074821c   \n",
       "2      5/22/2021  SXF-7309-1727-1334  476582ea-1bba-4289-8775-3fcd8074821c   \n",
       "3      3/23/2020  DG7-5410-5845-1340  5929a0e9-95a7-4dbf-896e-c11d1988615e   \n",
       "4      3/23/2020  DG7-5410-5845-1340  5929a0e9-95a7-4dbf-896e-c11d1988615e   \n",
       "...          ...                 ...                                   ...   \n",
       "2711  10/16/2020  P8K-8079-0264-6569  468f40b3-59ca-47fd-9739-c7f19cf48f32   \n",
       "2712  10/16/2020  P8K-8079-0264-6569  468f40b3-59ca-47fd-9739-c7f19cf48f32   \n",
       "2713  10/16/2020  P8K-8079-0264-6569  468f40b3-59ca-47fd-9739-c7f19cf48f32   \n",
       "2714  10/16/2020  P8K-8079-0264-6569  468f40b3-59ca-47fd-9739-c7f19cf48f32   \n",
       "2715  12/10/2019  6ZD-7972-0320-6653  f2a090b3-ec77-4018-939e-1a18d2b4f4ef   \n",
       "\n",
       "            Product_Name         SKU  Price  Quantity Product_Category  \\\n",
       "0         Feline Fix Mix  RKAPY3I1TP  39.55         1            treat   \n",
       "1          Scratchy Post  MPH6SCD7UT  26.95         3              toy   \n",
       "2            Reddy Beddy  DJWE1V9LZK  23.07         3          bedding   \n",
       "3     Snoozer Essentails  GABWVMEL2R  28.04         3          bedding   \n",
       "4            Reddy Beddy  KDTMPSBZKZ  13.84         1          bedding   \n",
       "...                  ...         ...    ...       ...              ...   \n",
       "2711            Cat Cave  058G0P7V60  29.66         1          bedding   \n",
       "2712       Kitty Climber  W86BRJ9SSG  39.32         1              toy   \n",
       "2713       Fetch Blaster  M291KHJ4LW  29.47         1              toy   \n",
       "2714  Snoozer Essentails  GABWVMEL2R  28.04         1          bedding   \n",
       "2715  Snoozer Essentails  GABWVMEL2R  28.04         1          bedding   \n",
       "\n",
       "     Product_Line  Subtotal  \n",
       "0             cat     39.55  \n",
       "1             cat     80.85  \n",
       "2             dog     69.21  \n",
       "3             dog     84.12  \n",
       "4             dog     13.84  \n",
       "...           ...       ...  \n",
       "2711          cat     29.66  \n",
       "2712          cat     39.32  \n",
       "2713          dog     29.47  \n",
       "2714          dog     28.04  \n",
       "2715          dog     28.04  \n",
       "\n",
       "[2716 rows x 10 columns]"
      ]
     },
     "execution_count": 11,
     "metadata": {},
     "output_type": "execute_result"
    }
   ],
   "source": [
    "df['Subtotal'] = df.Price * df.Quantity\n",
    "df\n"
   ]
  },
  {
   "cell_type": "markdown",
   "metadata": {
    "deletable": true,
    "editable": true,
    "nbgrader": {
     "cell_type": "markdown",
     "checksum": "a489fd68569214e8fe697ca692a4b6d6",
     "grade": false,
     "grade_id": "cell-48b3e6581e0538c5",
     "locked": true,
     "schema_version": 3,
     "solution": false,
     "task": false
    }
   },
   "source": [
    "### 🔍 Step 3: Data Exploration\n",
    "\n",
    "#### 3.1 Calculate Transaction Subtotals\n",
    "We create a new column `Subtotal` to capture the total transaction value per row.\n"
   ]
  },
  {
   "cell_type": "code",
   "execution_count": 12,
   "metadata": {
    "deletable": true,
    "nbgrader": {
     "cell_type": "code",
     "checksum": "0ff3ec95390cf80ddfdb36eeb3059cd9",
     "grade": false,
     "grade_id": "cell-ea16c170d026280d",
     "locked": false,
     "schema_version": 3,
     "solution": true,
     "task": false
    }
   },
   "outputs": [
    {
     "data": {
      "text/plain": [
       "'treat'"
      ]
     },
     "metadata": {},
     "output_type": "display_data"
    },
    {
     "data": {
      "text/plain": [
       "'bedding'"
      ]
     },
     "metadata": {},
     "output_type": "display_data"
    }
   ],
   "source": [
    "Product_Line_Cat = df[df['Product_Line'] == 'cat'].groupby('Product_Category')['Quantity'].sum()\n",
    "Product_Line_Dog = df[df['Product_Line'] == 'dog'].groupby('Product_Category')['Quantity'].sum()\n",
    "common_category_cat = Product_Line_Cat.idxmax()\n",
    "common_category_dog = Product_Line_Dog.idxmax()\n",
    "display(common_category_cat)\n",
    "display(common_category_dog)\n"
   ]
  },
  {
   "cell_type": "markdown",
   "metadata": {
    "deletable": true,
    "editable": true,
    "nbgrader": {
     "cell_type": "markdown",
     "checksum": "ab133a0283e8c70e90d863d17d5fda5a",
     "grade": false,
     "grade_id": "cell-2018546ce68966c2",
     "locked": true,
     "schema_version": 3,
     "solution": false,
     "task": false
    }
   },
   "source": [
    "#### 3.2 Identify Top-Selling Product Categories by Pet Type\n",
    "We want to see which product categories are most purchased by customers with cats vs. dogs.\n"
   ]
  },
  {
   "cell_type": "code",
   "execution_count": 13,
   "metadata": {
    "deletable": true,
    "nbgrader": {
     "cell_type": "code",
     "checksum": "64839aab6cb3625a26266b53a37e7c30",
     "grade": false,
     "grade_id": "cell-f5b3f83c78e74ea1",
     "locked": false,
     "schema_version": 3,
     "solution": true,
     "task": false
    }
   },
   "outputs": [
    {
     "data": {
      "text/plain": [
       "'bedding'"
      ]
     },
     "metadata": {},
     "output_type": "display_data"
    },
    {
     "data": {
      "text/plain": [
       "'toy'"
      ]
     },
     "metadata": {},
     "output_type": "display_data"
    }
   ],
   "source": [
    "Product_Line_Cat = df[df['Product_Line'] == 'cat'].groupby('Product_Category')['Price'].median()\n",
    "Product_Line_Dog = df[df['Product_Line'] == 'dog'].groupby('Product_Category')['Price'].median()\n",
    "priciest_category_cat = Product_Line_Cat.idxmax()\n",
    "priciest_category_dog = Product_Line_Dog.idxmax()\n",
    "display(priciest_category_cat)\n",
    "display(priciest_category_dog)"
   ]
  },
  {
   "cell_type": "markdown",
   "metadata": {
    "deletable": true,
    "editable": true,
    "nbgrader": {
     "cell_type": "markdown",
     "checksum": "8ef5d7a7f809c73c805ecba753adec0a",
     "grade": false,
     "grade_id": "cell-8233a768cede61f6",
     "locked": true,
     "schema_version": 3,
     "solution": false,
     "task": false
    }
   },
   "source": [
    "### 🤖 Step 4: Modeling (Skipped)\n",
    "\n",
    "In this project, I opted not to perform predictive modeling, as the primary objective was exploratory and descriptive analysis.\n",
    "\n",
    "However, here’s what a modeling step might look like in a future extension of this dataset:\n",
    "\n",
    "- **Objective**: Predict which product category a customer is likely to purchase based on their past behavior.\n",
    "- **Possible Models**: Decision Trees, Logistic Regression, or K-Means clustering for customer segmentation.\n",
    "- **Features**: Product Line, Quantity, Price, Date, Customer ID\n",
    "- **Target Variable**: Product Category\n",
    "\n",
    "**Why we skipped modeling:**\n",
    "- The dataset focuses on transactional records without customer history or temporal depth needed for modeling.\n",
    "- The stakeholder goal is to **understand current sales performance** rather than predict future purchases.\n",
    "\n",
    "Future enhancements could include:\n",
    "- Building a customer-level purchase prediction model\n",
    "- Recommender system for personalized pet product suggestions\n",
    "- Time-series sales forecasting per category\n"
   ]
  },
  {
   "cell_type": "markdown",
   "metadata": {
    "deletable": true,
    "editable": true,
    "nbgrader": {
     "cell_type": "markdown",
     "checksum": "6fc7d5b23e3fddf188bc936c45682502",
     "grade": false,
     "grade_id": "cell-413f95dbcce94d2a",
     "locked": true,
     "schema_version": 3,
     "solution": false,
     "task": false
    }
   },
   "source": [
    "### 📈 Step 5: Interpretation & Visualization\n",
    "\n",
    "#### 5.1 Compare Quantity Sold Across Product Categories\n",
    "I use a horizontal bar chart to visualize the total quantity sold across product categories, split by pet type.\n"
   ]
  },
  {
   "cell_type": "code",
   "execution_count": 14,
   "metadata": {
    "deletable": false,
    "nbgrader": {
     "cell_type": "code",
     "checksum": "67d988d8af95c0bc64abd3d4e8c84830",
     "grade": false,
     "grade_id": "cell-62ac242e3d2de621",
     "locked": false,
     "schema_version": 3,
     "solution": true,
     "task": false
    }
   },
   "outputs": [
    {
     "data": {
      "image/png": "[encoded data removed]",
      "text/plain": [
       "<Figure size 640x480 with 1 Axes>"
      ]
     },
     "metadata": {},
     "output_type": "display_data"
    }
   ],
   "source": [
    "ax = sns.barplot(x='Quantity', y='Product_Category', hue= 'Product_Line', data=df, estimator=sum, errorbar=None)\n",
    "\n",
    "plt.title('Total number of product categories sold')\n",
    "plt.xlabel('Quantity')\n",
    "plt.ylabel('Product Category')\n",
    "plt.tight_layout()\n",
    "plt.show()\n"
   ]
  },
  {
   "cell_type": "markdown",
   "metadata": {
    "deletable": true,
    "editable": true,
    "nbgrader": {
     "cell_type": "markdown",
     "checksum": "c0606c77e3247578b849af900952222c",
     "grade": false,
     "grade_id": "cell-4866317ad45ca0d4",
     "locked": true,
     "schema_version": 3,
     "solution": false,
     "task": false
    }
   },
   "source": [
    "#### 4.2 Stakeholder Insight Summary\n",
    "\n",
    "> **Key Insight:** Treats for cats and bedding for dogs are the most frequently purchased items.  \n",
    "> **Recommendation:** Prioritize inventory and marketing efforts on these product categories.\n"
   ]
  },
  {
   "cell_type": "markdown",
   "metadata": {
    "deletable": true,
    "editable": true,
    "nbgrader": {
     "cell_type": "markdown",
     "checksum": "ef648ee8c0f9ba3e291e9c02ad9622b5",
     "grade": false,
     "grade_id": "cell-3ad8083b07a1a791",
     "locked": true,
     "schema_version": 3,
     "solution": false,
     "task": false
    }
   },
   "source": [
    "#### 4.3 Enhanced Visualization for Business Presentation\n",
    "I color-highlight the top-performing categories to make it easier for stakeholders to act on insights.\n"
   ]
  },
  {
   "cell_type": "code",
   "execution_count": 27,
   "metadata": {
    "deletable": true,
    "nbgrader": {
     "cell_type": "code",
     "checksum": "f681a03230d5ade64e4535480e036d2d",
     "grade": false,
     "grade_id": "cell-f0250bd6b5fd8131",
     "locked": false,
     "schema_version": 3,
     "solution": true,
     "task": false
    }
   },
   "outputs": [
    {
     "data": {
      "image/png": "[encoded data removed]",
      "text/plain": [
       "<Figure size 1000x600 with 1 Axes>"
      ]
     },
     "metadata": {},
     "output_type": "display_data"
    }
   ],
   "source": [
    "# 1. Group data by Product_Category and Product_Line\n",
    "grouped = df.groupby(['Product_Category', 'Product_Line'])['Quantity'].sum().reset_index()\n",
    "\n",
    "# 2. Create the bar plot\n",
    "plt.figure(figsize=(10, 6))\n",
    "ax = sns.barplot(\n",
    "    data=grouped,\n",
    "    x='Quantity',\n",
    "    y='Product_Category',\n",
    "    hue='Product_Line',\n",
    "    estimator=sum,\n",
    "    errorbar=None\n",
    ")\n",
    "\n",
    "# 3. Identify categories to highlight\n",
    "highlight_colors = {\n",
    "    ('food', 'dog'): 'tomato',\n",
    "    ('toy', 'cat'): 'steelblue'\n",
    "}\n",
    "\n",
    "# 4. Recolor bars manually\n",
    "for bar, (_, row) in zip(ax.patches, grouped.iterrows()):\n",
    "    key = (row['Product_Category'], row['Product_Line'])\n",
    "    bar.set_color(highlight_colors.get(key, 'lightgray'))\n",
    "\n",
    "# 5. Custom legend\n",
    "from matplotlib.patches import Patch\n",
    "legend_elements = [\n",
    "    Patch(facecolor='tomato', label='Most Sold - Cat (treat)'),\n",
    "    Patch(facecolor='steelblue', label='Most Sold - Dog (bedding)'),\n",
    "    Patch(facecolor='lightgray', label='Other Categories')\n",
    "]\n",
    "\n",
    "# 6. Final plot polish\n",
    "plt.title('Most Sold Categories by Product Line')\n",
    "plt.xlabel('Total Quantity Sold')\n",
    "plt.ylabel('Product Category')\n",
    "plt.legend(handles=legend_elements, title='Legend')\n",
    "plt.tight_layout()\n",
    "plt.show()\n",
    "\n"
   ]
  },
  {
   "cell_type": "markdown",
   "metadata": {},
   "source": [
    "## ✅ Final Reflections & Next Steps\n",
    "\n",
    "This project applied the OSEMN framework to analyze pet store transactions and extract actionable business insights:\n",
    "\n",
    "- 🧼 **Scrubbed** and cleaned transactional data for analysis readiness  \n",
    "- 🔍 **Explored** trends in product category performance by animal type  \n",
    "- 📊 **Visualized** top-performing products for strategic recommendations  \n",
    "- 🧠 **Interpreted** the results to inform marketing and inventory planning decisions  \n",
    "\n",
    "While we skipped the modeling step due to the nature of the data, future iterations of this project could include:\n",
    "\n",
    "- 📈 Time-series forecasting of sales per category  \n",
    "- 🧩 Customer segmentation using clustering techniques  \n",
    "- 🛒 Predictive modeling for recommender systems  \n",
    "\n",
    "---\n",
    "\n",
    "### 💡 Key Takeaways\n",
    "\n",
    "- Treats are the top-selling category for **cats**  \n",
    "- Bedding is the top-selling category for **dogs**  \n",
    "- Prioritizing these products in inventory and promotions can drive higher revenue  \n",
    "\n",
    "---\n",
    "\n",
    "### 📌 What I Learned\n",
    "\n",
    "- Hands-on experience in data wrangling and cleaning with pandas  \n",
    "- Structuring a full analysis workflow in Jupyter Notebook  \n",
    "- Communicating insights with compelling visuals using seaborn and matplotlib  \n",
    "- Framing analysis in a business-relevant context for stakeholders  \n",
    "\n",
    "---\n",
    "\n",
    "📂 This notebook is part of my **Data Analyst Portfolio**.  \n",
    "🧭 Explore more projects [on my GitHub/Notion/Portfolio site].  \n",
    "📬 Feel free to connect or reach out to discuss this project further!\n",
    "\n"
   ]
  }
 ],
 "metadata": {
  "kernelspec": {
   "display_name": "Python 3 (ipykernel)",
   "language": "python",
   "name": "python3"
  },
  "language_info": {
   "codemirror_mode": {
    "name": "ipython",
    "version": 3
   },
   "file_extension": ".py",
   "mimetype": "text/x-python",
   "name": "python",
   "nbconvert_exporter": "python",
   "pygments_lexer": "ipython3",
   "version": "3.13.5"
  }
 },
 "nbformat": 4,
 "nbformat_minor": 4
}
